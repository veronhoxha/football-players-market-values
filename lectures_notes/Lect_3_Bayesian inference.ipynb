{
 "cells": [
  {
   "cell_type": "markdown",
   "id": "0bd52c03",
   "metadata": {},
   "source": [
    "## Proof that the prior of a fixed variance Normal distribution is normal"
   ]
  },
  {
   "cell_type": "markdown",
   "id": "30df2167",
   "metadata": {},
   "source": [
    "The proof that the posterior distribution of a normal distribution with a fixed variance and a normal prior is also a normal distribution is a fundamental result in Bayesian statistics. It relies on the properties of the normal distribution and Bayes' theorem.\n",
    "\n",
    "Suppose we have a normal likelihood with fixed variance, where the likelihood is given as:\n",
    "\n",
    "$$P(\\theta | x) \\propto \\exp\\left(-\\frac{1}{2\\sigma^2}(x - \\theta)^2\\right)$$\n",
    "\n",
    "Here, $\\theta$ is the parameter we want to estimate, \\(x\\) is the observed data, and $\\sigma^2$ is the fixed variance.\n",
    "\n",
    "Now, let's assume we have a normal prior for $\\theta$:\n",
    "\n",
    "$$P(\\theta) \\propto \\exp\\left(-\\frac{1}{2\\tau^2}(\\theta - \\mu)^2\\right)$$\n",
    "\n",
    "Where $\\mu$ is the prior mean, and $\\tau^2$ is the prior variance.\n",
    "\n",
    "According to Bayes' theorem, the posterior distribution is proportional to the product of the likelihood and the prior:\n",
    "\n",
    "$$P(\\theta | x) \\propto P(x | \\theta) \\cdot P(\\theta)$$\n",
    "\n",
    "Substituting the expressions for the likelihood and prior:\n",
    "\n",
    "$$P(\\theta | x) \\propto \\exp\\left(-\\frac{1}{2\\sigma^2}(x - \\theta)^2\\right) \\cdot \\exp\\left(-\\frac{1}{2\\tau^2}(\\theta - \\mu)^2\\right)$$\n",
    "\n",
    "Now, let's simplify the expression:\n",
    "\n",
    "$$P(\\theta | x) \\propto \\exp\\left(-\\frac{1}{2\\sigma^2}(x - \\theta)^2 - \\frac{1}{2\\tau^2}(\\theta - \\mu)^2\\right)$$\n",
    "\n",
    "To further simplify, let's expand and collect like terms:\n",
    "\n",
    "$$P(\\theta | x) \\propto \\exp\\left(-\\frac{1}{2\\sigma^2}(x^2 - 2x\\theta + \\theta^2) - \\frac{1}{2\\tau^2}(\\theta^2 - 2\\mu\\theta + \\mu^2)\\right)$$\n",
    "\n",
    "Now, combine the terms:\n",
    "\n",
    "$$P(\\theta | x) \\propto \\exp\\left(-\\frac{1}{2\\sigma^2}(x^2 - 2x\\theta + \\theta^2 + \\frac{\\sigma^2}{\\tau^2}\\theta^2 - \\frac{2\\mu\\sigma^2}{\\tau^2}\\theta + \\frac{\\mu^2\\sigma^2}{\\tau^2})\\right)$$\n",
    "\n",
    "Now, factor out common terms:\n",
    "\n",
    "$$P(\\theta | x) \\propto \\exp\\left(-\\frac{1}{2} \\left(\\frac{1}{\\sigma^2} + \\frac{1}{\\tau^2}\\right)\\theta^2 + \\left(\\frac{x}{\\sigma^2} + \\frac{\\mu\\sigma^2}{\\tau^2}\\right)\\theta - \\frac{1}{2\\sigma^2}(x^2 + \\frac{\\mu^2\\sigma^2}{\\tau^2})\\right)$$\n",
    "\n",
    "At this point, we have a quadratic expression in $\\theta$ that resembles the form of a normal distribution:\n",
    "\n",
    "$$P(\\theta | x) \\propto \\exp\\left(-\\frac{1}{2}A\\theta^2 + B\\theta + C\\right)$$\n",
    "\n",
    "Where:\n",
    "- $A = \\frac{1}{\\sigma^2} + \\frac{1}{\\tau^2}$\n",
    "- $B = \\frac{x}{\\sigma^2} + \\frac{\\mu\\sigma^2}{\\tau^2}$\n",
    "- $C = -\\frac{1}{2\\sigma^2}(x^2 + \\frac{\\mu^2\\sigma^2}{\\tau^2})$\n",
    "\n",
    "This is indeed the form of a normal distribution. Therefore, the posterior distribution of $\\theta$ given a normal likelihood with fixed variance and a normal prior is also a normal distribution, characterized by its own mean and variance."
   ]
  },
  {
   "cell_type": "code",
   "execution_count": 13,
   "id": "1efee7be",
   "metadata": {},
   "outputs": [
    {
     "data": {
      "image/png": "[encoded data removed]",
      "text/plain": [
       "<Figure size 576x432 with 1 Axes>"
      ]
     },
     "metadata": {
      "needs_background": "light"
     },
     "output_type": "display_data"
    },
    {
     "name": "stdout",
     "output_type": "stream",
     "text": [
      "Best-fitting Poisson parameter (mu): 0.2143535535017293\n"
     ]
    }
   ],
   "source": [
    "import numpy as np\n",
    "import matplotlib.pyplot as plt\n",
    "from scipy.stats import poisson\n",
    "from scipy.optimize import minimize\n",
    "\n",
    "# Given data\n",
    "data = [(0, 7840), (1, 1317), (2, 239), (3, 42), (4, 14), (5, 4), (6, 4), (7, 1)]\n",
    "\n",
    "# Extract counts from the data\n",
    "counts = np.array([count for _, count in data])\n",
    "\n",
    "#Normalize the counts\n",
    "counts = counts/np.sum(counts)\n",
    "\n",
    "# Define the negative log-likelihood function for a Poisson distribution\n",
    "def neg_log_likelihood(params, counts):\n",
    "    mu = params[0]\n",
    "    expected_counts = poisson(mu).pmf(np.arange(len(counts)))\n",
    "    return -np.sum(counts * np.log(expected_counts))\n",
    "\n",
    "# Fit the Poisson distribution to the data by minimizing the negative log-likelihood\n",
    "initial_guess = [np.mean(counts)]\n",
    "result = minimize(neg_log_likelihood, initial_guess, args=(counts,))\n",
    "mu_fit = result.x[0]\n",
    "\n",
    "# Generate x values for the plot\n",
    "x_values = np.arange(len(counts))\n",
    "\n",
    "# Calculate the probability mass function (PMF) for the best-fitting Poisson distribution\n",
    "pmf_values = poisson(mu_fit).pmf(x_values)\n",
    "\n",
    "# Create the plot\n",
    "plt.figure(figsize=(8, 6))\n",
    "plt.bar(x_values, counts, label='Observed Data', alpha=0.7)\n",
    "plt.plot(x_values, pmf_values, 'ro-', label='Best-Fitting Poisson PMF', linewidth=2)\n",
    "plt.title('Best-Fitting Poisson Distribution')\n",
    "plt.xlabel('Count')\n",
    "plt.ylabel('Frequency')\n",
    "plt.xticks(x_values)\n",
    "plt.grid(True)\n",
    "plt.legend()\n",
    "plt.show()\n",
    "\n",
    "print(\"Best-fitting Poisson parameter (mu):\", mu_fit)\n"
   ]
  }
 ],
 "metadata": {
  "kernelspec": {
   "display_name": "Python 3 (ipykernel)",
   "language": "python",
   "name": "python3"
  },
  "language_info": {
   "codemirror_mode": {
    "name": "ipython",
    "version": 3
   },
   "file_extension": ".py",
   "mimetype": "text/x-python",
   "name": "python",
   "nbconvert_exporter": "python",
   "pygments_lexer": "ipython3",
   "version": "3.9.13"
  }
 },
 "nbformat": 4,
 "nbformat_minor": 5
}
