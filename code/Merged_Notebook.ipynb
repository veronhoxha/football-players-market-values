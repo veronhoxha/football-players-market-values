{
 "cells": [
  {
   "cell_type": "markdown",
   "metadata": {},
   "source": [
    "### Gino's playground"
   ]
  },
  {
   "cell_type": "code",
   "execution_count": 28,
   "metadata": {},
   "outputs": [],
   "source": [
    "# IMPORTS\n",
    "import datadotworld as dw\n",
    "import pandas as pd\n",
    "import numpy as np\n",
    "import matplotlib.pyplot as plt\n",
    "import sys; sys.path.append(\"./libraries/\")\n",
    "from utils import *"
   ]
  },
  {
   "cell_type": "markdown",
   "metadata": {},
   "source": [
    "#### Settings"
   ]
  },
  {
   "cell_type": "code",
   "execution_count": 29,
   "metadata": {},
   "outputs": [],
   "source": [
    "# Relative Paths\n",
    "RAW_DATA = \"../data/raw/\"\n",
    "PROC_DATA = \"../data/processed/\"\n",
    "\n",
    "# Flags\n",
    "process = False"
   ]
  },
  {
   "cell_type": "code",
   "execution_count": 40,
   "metadata": {},
   "outputs": [],
   "source": [
    "# If process, load raw data and apply matching between datasets \n",
    "# NOTE: It may take several minutes\n",
    "if process:\n",
    "    # Raw player's datasets\n",
    "    players = pd.read_csv('https://query.data.world/s/gksm6hx4xzgjaed7tia2uzpafwvyjo?dws=00000')\n",
    "    ratings22 = pd.read_csv(RAW_DATA + \"FIFA22_player_ratings.csv\") # FIFA player attributes from 2022\n",
    "    ratings21 = pd.read_csv(RAW_DATA + \"FIFA21_player_ratings.csv\") # FIFA player attributes from 2022\n",
    "    # This appends players from 2021 not present in 2022\n",
    "    extended = set(ratings21.sofifa_id).difference(set(ratings22.sofifa_id))\n",
    "    FIFA = pd.concat([ratings22, ratings21[ratings21.sofifa_id.isin(extended)]]).reset_index()\n",
    "\n",
    "    # Remove uninformative columns\n",
    "    players.drop([\"player_code\", \"agent_name\", \"image_url\", \"url\"], axis=1, inplace=True)\n",
    "    FIFA.drop([\"player_url\", \"club_team_id\", \"club_position\", \"club_jersey_number\", \"club_loaned_from\", \"club_joined\", \n",
    "                \"nationality_id\", \"nation_team_id\", \"nation_jersey_number\", \"real_face\", \"player_tags\", \"player_face_url\", \n",
    "                \"club_logo_url\", \"club_flag_url\", \"nation_logo_url\", \"nation_flag_url\"], axis=1, inplace=True)\n",
    "    \n",
    "    # Find matches using custom function\n",
    "    longname_matches = match_players(players, ratings)\n",
    "    # Append the extracted FIFA long names\n",
    "    players[\"FIFA_long_name\"] = longname_matches\n",
    "\n",
    "    ## Merge players with FIFA attributes\n",
    "    # Create a unique identifier with long name and year of birth\n",
    "    players[\"fifa_id\"] = players[\"FIFA_long_name\"] + \"-\" + pd.to_datetime(players[\"date_of_birth\"]).dt.year.astype(str)\n",
    "    FIFA[\"fifa_id\"] = FIFA.long_name + \"-\" + pd.to_datetime(FIFA[\"dob\"]).dt.year.astype(str)\n",
    "    # Join\n",
    "    players = players.merge(FIFA, on=\"fifa_id\", how=\"inner\")\n",
    "    # Drop temp id cols\n",
    "    players.drop([\"name\", \"fifa_id\", \"sofifa_id\"], axis=1, inplace=True)\n",
    "    # Save dataset\n",
    "    players.to_csv(PROC_DATA + \"players_wFIFAattributes.csv\", index=False)\n",
    "\n",
    "# Else load processed data\n",
    "else:\n",
    "    players = pd.read_csv(PROC_DATA + \"players_wFIFAattributes.csv\")\n",
    "\n",
    "# Get valuation data\n",
    "valuations = pd.read_csv('https://query.data.world/s/y4qg2twfvou4w2ghz6o3evju32g7yn?dws=00000') \n",
    "# ... (we can get some more datasets if needed)"
   ]
  },
  {
   "cell_type": "code",
   "execution_count": 41,
   "metadata": {},
   "outputs": [
    {
     "name": "stdout",
     "output_type": "stream",
     "text": [
      "<class 'pandas.core.frame.DataFrame'>\n",
      "RangeIndex: 11159 entries, 0 to 11158\n",
      "Columns: 112 entries, player_id to gk\n",
      "dtypes: float64(15), int64(44), object(53)\n",
      "memory usage: 9.5+ MB\n",
      "None\n"
     ]
    },
    {
     "data": {
      "text/html": [
       "<div>\n",
       "<style scoped>\n",
       "    .dataframe tbody tr th:only-of-type {\n",
       "        vertical-align: middle;\n",
       "    }\n",
       "\n",
       "    .dataframe tbody tr th {\n",
       "        vertical-align: top;\n",
       "    }\n",
       "\n",
       "    .dataframe thead th {\n",
       "        text-align: right;\n",
       "    }\n",
       "</style>\n",
       "<table border=\"1\" class=\"dataframe\">\n",
       "  <thead>\n",
       "    <tr style=\"text-align: right;\">\n",
       "      <th></th>\n",
       "      <th>player_id</th>\n",
       "      <th>first_name</th>\n",
       "      <th>last_name</th>\n",
       "      <th>FIFA_long_name</th>\n",
       "      <th>last_season</th>\n",
       "      <th>country_of_birth</th>\n",
       "      <th>city_of_birth</th>\n",
       "      <th>country_of_citizenship</th>\n",
       "      <th>date_of_birth</th>\n",
       "      <th>sub_position</th>\n",
       "      <th>...</th>\n",
       "      <th>ldm</th>\n",
       "      <th>cdm</th>\n",
       "      <th>rdm</th>\n",
       "      <th>rwb</th>\n",
       "      <th>lb</th>\n",
       "      <th>lcb</th>\n",
       "      <th>cb</th>\n",
       "      <th>rcb</th>\n",
       "      <th>rb</th>\n",
       "      <th>gk</th>\n",
       "    </tr>\n",
       "  </thead>\n",
       "  <tbody>\n",
       "    <tr>\n",
       "      <th>0</th>\n",
       "      <td>3875</td>\n",
       "      <td>Jermain</td>\n",
       "      <td>Defoe</td>\n",
       "      <td>Jermain Colin Defoe</td>\n",
       "      <td>2021</td>\n",
       "      <td>England</td>\n",
       "      <td>London</td>\n",
       "      <td>England</td>\n",
       "      <td>1982-10-07</td>\n",
       "      <td>Centre-Forward</td>\n",
       "      <td>...</td>\n",
       "      <td>43+2</td>\n",
       "      <td>43+2</td>\n",
       "      <td>43+2</td>\n",
       "      <td>43+2</td>\n",
       "      <td>40+2</td>\n",
       "      <td>38+2</td>\n",
       "      <td>38+2</td>\n",
       "      <td>38+2</td>\n",
       "      <td>40+2</td>\n",
       "      <td>18+2</td>\n",
       "    </tr>\n",
       "    <tr>\n",
       "      <th>1</th>\n",
       "      <td>4742</td>\n",
       "      <td>Christophe</td>\n",
       "      <td>Lepoint</td>\n",
       "      <td>Christophe Lepoint</td>\n",
       "      <td>2022</td>\n",
       "      <td>Belgium</td>\n",
       "      <td>Brussel</td>\n",
       "      <td>Belgium</td>\n",
       "      <td>1984-10-24</td>\n",
       "      <td>Central Midfield</td>\n",
       "      <td>...</td>\n",
       "      <td>68-1</td>\n",
       "      <td>68-1</td>\n",
       "      <td>68-1</td>\n",
       "      <td>62+2</td>\n",
       "      <td>62+2</td>\n",
       "      <td>67</td>\n",
       "      <td>67</td>\n",
       "      <td>67</td>\n",
       "      <td>62+2</td>\n",
       "      <td>16+2</td>\n",
       "    </tr>\n",
       "    <tr>\n",
       "      <th>2</th>\n",
       "      <td>6838</td>\n",
       "      <td>Henok</td>\n",
       "      <td>Goitom</td>\n",
       "      <td>Henok Goitom</td>\n",
       "      <td>2015</td>\n",
       "      <td>Sweden</td>\n",
       "      <td>Solna</td>\n",
       "      <td>Eritrea</td>\n",
       "      <td>1984-09-22</td>\n",
       "      <td>Centre-Forward</td>\n",
       "      <td>...</td>\n",
       "      <td>55+2</td>\n",
       "      <td>55+2</td>\n",
       "      <td>55+2</td>\n",
       "      <td>50+2</td>\n",
       "      <td>48+2</td>\n",
       "      <td>50+2</td>\n",
       "      <td>50+2</td>\n",
       "      <td>50+2</td>\n",
       "      <td>48+2</td>\n",
       "      <td>17+2</td>\n",
       "    </tr>\n",
       "    <tr>\n",
       "      <th>3</th>\n",
       "      <td>10003</td>\n",
       "      <td>Wes</td>\n",
       "      <td>Morgan</td>\n",
       "      <td>Wes Morgan</td>\n",
       "      <td>2020</td>\n",
       "      <td>England</td>\n",
       "      <td>Nottingham</td>\n",
       "      <td>Jamaica</td>\n",
       "      <td>1984-01-21</td>\n",
       "      <td>Centre-Back</td>\n",
       "      <td>...</td>\n",
       "      <td>64+2</td>\n",
       "      <td>64+2</td>\n",
       "      <td>64+2</td>\n",
       "      <td>54+2</td>\n",
       "      <td>57+2</td>\n",
       "      <td>73</td>\n",
       "      <td>73</td>\n",
       "      <td>73</td>\n",
       "      <td>57+2</td>\n",
       "      <td>16+2</td>\n",
       "    </tr>\n",
       "    <tr>\n",
       "      <th>4</th>\n",
       "      <td>10471</td>\n",
       "      <td>NaN</td>\n",
       "      <td>Luiz Gustavo</td>\n",
       "      <td>Luiz Gustavo Dias</td>\n",
       "      <td>2021</td>\n",
       "      <td>Brazil</td>\n",
       "      <td>Pindamonhangaba</td>\n",
       "      <td>Brazil</td>\n",
       "      <td>1987-07-23</td>\n",
       "      <td>Defensive Midfield</td>\n",
       "      <td>...</td>\n",
       "      <td>75+2</td>\n",
       "      <td>75+2</td>\n",
       "      <td>75+2</td>\n",
       "      <td>71+3</td>\n",
       "      <td>71+3</td>\n",
       "      <td>75+2</td>\n",
       "      <td>75+2</td>\n",
       "      <td>75+2</td>\n",
       "      <td>71+3</td>\n",
       "      <td>17+3</td>\n",
       "    </tr>\n",
       "  </tbody>\n",
       "</table>\n",
       "<p>5 rows × 112 columns</p>\n",
       "</div>"
      ],
      "text/plain": [
       "   player_id  first_name     last_name       FIFA_long_name  last_season  \\\n",
       "0       3875     Jermain         Defoe  Jermain Colin Defoe         2021   \n",
       "1       4742  Christophe       Lepoint   Christophe Lepoint         2022   \n",
       "2       6838       Henok        Goitom         Henok Goitom         2015   \n",
       "3      10003         Wes        Morgan           Wes Morgan         2020   \n",
       "4      10471         NaN  Luiz Gustavo    Luiz Gustavo Dias         2021   \n",
       "\n",
       "  country_of_birth    city_of_birth country_of_citizenship date_of_birth  \\\n",
       "0          England           London                England    1982-10-07   \n",
       "1          Belgium          Brussel                Belgium    1984-10-24   \n",
       "2           Sweden            Solna                Eritrea    1984-09-22   \n",
       "3          England       Nottingham                Jamaica    1984-01-21   \n",
       "4           Brazil  Pindamonhangaba                 Brazil    1987-07-23   \n",
       "\n",
       "         sub_position  ...   ldm   cdm   rdm   rwb    lb   lcb    cb   rcb  \\\n",
       "0      Centre-Forward  ...  43+2  43+2  43+2  43+2  40+2  38+2  38+2  38+2   \n",
       "1    Central Midfield  ...  68-1  68-1  68-1  62+2  62+2    67    67    67   \n",
       "2      Centre-Forward  ...  55+2  55+2  55+2  50+2  48+2  50+2  50+2  50+2   \n",
       "3         Centre-Back  ...  64+2  64+2  64+2  54+2  57+2    73    73    73   \n",
       "4  Defensive Midfield  ...  75+2  75+2  75+2  71+3  71+3  75+2  75+2  75+2   \n",
       "\n",
       "     rb    gk  \n",
       "0  40+2  18+2  \n",
       "1  62+2  16+2  \n",
       "2  48+2  17+2  \n",
       "3  57+2  16+2  \n",
       "4  71+3  17+3  \n",
       "\n",
       "[5 rows x 112 columns]"
      ]
     },
     "execution_count": 41,
     "metadata": {},
     "output_type": "execute_result"
    }
   ],
   "source": [
    "print(players.info())\n",
    "players.head()"
   ]
  },
  {
   "cell_type": "code",
   "execution_count": 43,
   "metadata": {},
   "outputs": [
    {
     "data": {
      "image/png": "[encoded data removed]",
      "text/plain": [
       "<Figure size 640x480 with 1 Axes>"
      ]
     },
     "metadata": {},
     "output_type": "display_data"
    }
   ],
   "source": [
    "fig, ax = plt.subplots()\n",
    "\n",
    "ax.hist(players.age);"
   ]
  },
  {
   "cell_type": "code",
   "execution_count": 8,
   "metadata": {},
   "outputs": [],
   "source": [
    "# Detect retired:\n",
    "## Conditions:\n",
    "### Last season < 2021\n",
    "### No current club (NAN)\n",
    "### No Market value in EUR (NAN)\n",
    "### No Contract Expiration date (NAN)\n",
    "players.loc[(players.last_season < 2021) & (players.current_club_name.isna()) & (players.market_value_in_eur.isna()) & (players.contract_expiration_date.isna()), \"age\"].hist();"
   ]
  },
  {
   "cell_type": "code",
   "execution_count": 9,
   "metadata": {},
   "outputs": [
    {
     "data": {
      "text/plain": [
       "3942"
      ]
     },
     "execution_count": 9,
     "metadata": {},
     "output_type": "execute_result"
    }
   ],
   "source": [
    "players.loc[(players.last_season < 2021) & (players.current_club_name.isna()) & (players.market_value_in_eur.isna()) & (players.contract_expiration_date.isna()), \"age\"].count()"
   ]
  },
  {
   "cell_type": "code",
   "execution_count": 10,
   "metadata": {},
   "outputs": [
    {
     "data": {
      "text/plain": [
       "player_id                                       844356\n",
       "first_name                                       Petro\n",
       "last_name                                     Velychko\n",
       "name                                    Petro Velychko\n",
       "FIFA_long_name                                     NaN\n",
       "last_season                                       2020\n",
       "country_of_birth                                   NaN\n",
       "city_of_birth                                      NaN\n",
       "country_of_citizenship                         Ukraine\n",
       "date_of_birth                               2004-08-28\n",
       "sub_position                               Centre-Back\n",
       "position                                      Defender\n",
       "foot                                             right\n",
       "height_in_cm                                     190.0\n",
       "market_value_in_eur                                NaN\n",
       "highest_market_value_in_eur                        NaN\n",
       "contract_expiration_date                           NaN\n",
       "current_club_domestic_competition_id              UKR1\n",
       "current_club_name                                  NaN\n",
       "age                                               16.0\n",
       "Name: 6739, dtype: object"
      ]
     },
     "execution_count": 10,
     "metadata": {},
     "output_type": "execute_result"
    }
   ],
   "source": [
    "players.loc[6739]"
   ]
  },
  {
   "cell_type": "code",
   "execution_count": null,
   "metadata": {},
   "outputs": [],
   "source": []
  }
 ],
 "metadata": {
  "kernelspec": {
   "display_name": "Python 3",
   "language": "python",
   "name": "python3"
  },
  "language_info": {
   "codemirror_mode": {
    "name": "ipython",
    "version": 3
   },
   "file_extension": ".py",
   "mimetype": "text/x-python",
   "name": "python",
   "nbconvert_exporter": "python",
   "pygments_lexer": "ipython3",
   "version": "3.10.6"
  }
 },
 "nbformat": 4,
 "nbformat_minor": 2
}
