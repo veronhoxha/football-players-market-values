{
 "cells": [
  {
   "cell_type": "markdown",
   "metadata": {},
   "source": [
    "### Gino's playground"
   ]
  },
  {
   "cell_type": "code",
   "execution_count": 3,
   "metadata": {},
   "outputs": [],
   "source": [
    "# IMPORTS\n",
    "import datadotworld as dw\n",
    "import pandas as pd\n",
    "import numpy as np\n",
    "import matplotlib.pyplot as plt\n",
    "from utils import *"
   ]
  },
  {
   "cell_type": "code",
   "execution_count": 4,
   "metadata": {},
   "outputs": [
    {
     "ename": "FileNotFoundError",
     "evalue": "[Errno 2] No such file or directory: '../data/players_ratings_22.csv'",
     "output_type": "error",
     "traceback": [
      "\u001b[1;31m---------------------------------------------------------------------------\u001b[0m",
      "\u001b[1;31mFileNotFoundError\u001b[0m                         Traceback (most recent call last)",
      "\u001b[1;32mc:\\Users\\Veronii\\Desktop\\advanced_stats\\code\\Ginos_Notebook.ipynb Cell 3\u001b[0m line \u001b[0;36m4\n\u001b[0;32m      <a href='vscode-notebook-cell:/c%3A/Users/Veronii/Desktop/advanced_stats/code/Ginos_Notebook.ipynb#W2sZmlsZQ%3D%3D?line=1'>2</a>\u001b[0m valuations \u001b[39m=\u001b[39m pd\u001b[39m.\u001b[39mread_csv(\u001b[39m'\u001b[39m\u001b[39mhttps://query.data.world/s/y4qg2twfvou4w2ghz6o3evju32g7yn?dws=00000\u001b[39m\u001b[39m'\u001b[39m) \n\u001b[0;32m      <a href='vscode-notebook-cell:/c%3A/Users/Veronii/Desktop/advanced_stats/code/Ginos_Notebook.ipynb#W2sZmlsZQ%3D%3D?line=2'>3</a>\u001b[0m players \u001b[39m=\u001b[39m pd\u001b[39m.\u001b[39mread_csv(\u001b[39m'\u001b[39m\u001b[39mhttps://query.data.world/s/gksm6hx4xzgjaed7tia2uzpafwvyjo?dws=00000\u001b[39m\u001b[39m'\u001b[39m)\n\u001b[1;32m----> <a href='vscode-notebook-cell:/c%3A/Users/Veronii/Desktop/advanced_stats/code/Ginos_Notebook.ipynb#W2sZmlsZQ%3D%3D?line=3'>4</a>\u001b[0m ratings22 \u001b[39m=\u001b[39m pd\u001b[39m.\u001b[39;49mread_csv(\u001b[39m\"\u001b[39;49m\u001b[39m../data/players_ratings_22.csv\u001b[39;49m\u001b[39m\"\u001b[39;49m) \u001b[39m# FIFA player attributes from 2022\u001b[39;00m\n\u001b[0;32m      <a href='vscode-notebook-cell:/c%3A/Users/Veronii/Desktop/advanced_stats/code/Ginos_Notebook.ipynb#W2sZmlsZQ%3D%3D?line=4'>5</a>\u001b[0m ratings21 \u001b[39m=\u001b[39m pd\u001b[39m.\u001b[39mread_csv(\u001b[39m\"\u001b[39m\u001b[39m../data/players_ratings_22.csv\u001b[39m\u001b[39m\"\u001b[39m) \u001b[39m# FIFA player attributes from 2022\u001b[39;00m\n\u001b[0;32m      <a href='vscode-notebook-cell:/c%3A/Users/Veronii/Desktop/advanced_stats/code/Ginos_Notebook.ipynb#W2sZmlsZQ%3D%3D?line=5'>6</a>\u001b[0m \u001b[39m# This appends players from 2021 not present in 2022\u001b[39;00m\n",
      "File \u001b[1;32mc:\\Users\\Veronii\\AppData\\Local\\Programs\\Python\\Python310\\lib\\site-packages\\pandas\\io\\parsers\\readers.py:948\u001b[0m, in \u001b[0;36mread_csv\u001b[1;34m(filepath_or_buffer, sep, delimiter, header, names, index_col, usecols, dtype, engine, converters, true_values, false_values, skipinitialspace, skiprows, skipfooter, nrows, na_values, keep_default_na, na_filter, verbose, skip_blank_lines, parse_dates, infer_datetime_format, keep_date_col, date_parser, date_format, dayfirst, cache_dates, iterator, chunksize, compression, thousands, decimal, lineterminator, quotechar, quoting, doublequote, escapechar, comment, encoding, encoding_errors, dialect, on_bad_lines, delim_whitespace, low_memory, memory_map, float_precision, storage_options, dtype_backend)\u001b[0m\n\u001b[0;32m    935\u001b[0m kwds_defaults \u001b[39m=\u001b[39m _refine_defaults_read(\n\u001b[0;32m    936\u001b[0m     dialect,\n\u001b[0;32m    937\u001b[0m     delimiter,\n\u001b[1;32m   (...)\u001b[0m\n\u001b[0;32m    944\u001b[0m     dtype_backend\u001b[39m=\u001b[39mdtype_backend,\n\u001b[0;32m    945\u001b[0m )\n\u001b[0;32m    946\u001b[0m kwds\u001b[39m.\u001b[39mupdate(kwds_defaults)\n\u001b[1;32m--> 948\u001b[0m \u001b[39mreturn\u001b[39;00m _read(filepath_or_buffer, kwds)\n",
      "File \u001b[1;32mc:\\Users\\Veronii\\AppData\\Local\\Programs\\Python\\Python310\\lib\\site-packages\\pandas\\io\\parsers\\readers.py:611\u001b[0m, in \u001b[0;36m_read\u001b[1;34m(filepath_or_buffer, kwds)\u001b[0m\n\u001b[0;32m    608\u001b[0m _validate_names(kwds\u001b[39m.\u001b[39mget(\u001b[39m\"\u001b[39m\u001b[39mnames\u001b[39m\u001b[39m\"\u001b[39m, \u001b[39mNone\u001b[39;00m))\n\u001b[0;32m    610\u001b[0m \u001b[39m# Create the parser.\u001b[39;00m\n\u001b[1;32m--> 611\u001b[0m parser \u001b[39m=\u001b[39m TextFileReader(filepath_or_buffer, \u001b[39m*\u001b[39m\u001b[39m*\u001b[39mkwds)\n\u001b[0;32m    613\u001b[0m \u001b[39mif\u001b[39;00m chunksize \u001b[39mor\u001b[39;00m iterator:\n\u001b[0;32m    614\u001b[0m     \u001b[39mreturn\u001b[39;00m parser\n",
      "File \u001b[1;32mc:\\Users\\Veronii\\AppData\\Local\\Programs\\Python\\Python310\\lib\\site-packages\\pandas\\io\\parsers\\readers.py:1448\u001b[0m, in \u001b[0;36mTextFileReader.__init__\u001b[1;34m(self, f, engine, **kwds)\u001b[0m\n\u001b[0;32m   1445\u001b[0m     \u001b[39mself\u001b[39m\u001b[39m.\u001b[39moptions[\u001b[39m\"\u001b[39m\u001b[39mhas_index_names\u001b[39m\u001b[39m\"\u001b[39m] \u001b[39m=\u001b[39m kwds[\u001b[39m\"\u001b[39m\u001b[39mhas_index_names\u001b[39m\u001b[39m\"\u001b[39m]\n\u001b[0;32m   1447\u001b[0m \u001b[39mself\u001b[39m\u001b[39m.\u001b[39mhandles: IOHandles \u001b[39m|\u001b[39m \u001b[39mNone\u001b[39;00m \u001b[39m=\u001b[39m \u001b[39mNone\u001b[39;00m\n\u001b[1;32m-> 1448\u001b[0m \u001b[39mself\u001b[39m\u001b[39m.\u001b[39m_engine \u001b[39m=\u001b[39m \u001b[39mself\u001b[39;49m\u001b[39m.\u001b[39;49m_make_engine(f, \u001b[39mself\u001b[39;49m\u001b[39m.\u001b[39;49mengine)\n",
      "File \u001b[1;32mc:\\Users\\Veronii\\AppData\\Local\\Programs\\Python\\Python310\\lib\\site-packages\\pandas\\io\\parsers\\readers.py:1705\u001b[0m, in \u001b[0;36mTextFileReader._make_engine\u001b[1;34m(self, f, engine)\u001b[0m\n\u001b[0;32m   1703\u001b[0m     \u001b[39mif\u001b[39;00m \u001b[39m\"\u001b[39m\u001b[39mb\u001b[39m\u001b[39m\"\u001b[39m \u001b[39mnot\u001b[39;00m \u001b[39min\u001b[39;00m mode:\n\u001b[0;32m   1704\u001b[0m         mode \u001b[39m+\u001b[39m\u001b[39m=\u001b[39m \u001b[39m\"\u001b[39m\u001b[39mb\u001b[39m\u001b[39m\"\u001b[39m\n\u001b[1;32m-> 1705\u001b[0m \u001b[39mself\u001b[39m\u001b[39m.\u001b[39mhandles \u001b[39m=\u001b[39m get_handle(\n\u001b[0;32m   1706\u001b[0m     f,\n\u001b[0;32m   1707\u001b[0m     mode,\n\u001b[0;32m   1708\u001b[0m     encoding\u001b[39m=\u001b[39;49m\u001b[39mself\u001b[39;49m\u001b[39m.\u001b[39;49moptions\u001b[39m.\u001b[39;49mget(\u001b[39m\"\u001b[39;49m\u001b[39mencoding\u001b[39;49m\u001b[39m\"\u001b[39;49m, \u001b[39mNone\u001b[39;49;00m),\n\u001b[0;32m   1709\u001b[0m     compression\u001b[39m=\u001b[39;49m\u001b[39mself\u001b[39;49m\u001b[39m.\u001b[39;49moptions\u001b[39m.\u001b[39;49mget(\u001b[39m\"\u001b[39;49m\u001b[39mcompression\u001b[39;49m\u001b[39m\"\u001b[39;49m, \u001b[39mNone\u001b[39;49;00m),\n\u001b[0;32m   1710\u001b[0m     memory_map\u001b[39m=\u001b[39;49m\u001b[39mself\u001b[39;49m\u001b[39m.\u001b[39;49moptions\u001b[39m.\u001b[39;49mget(\u001b[39m\"\u001b[39;49m\u001b[39mmemory_map\u001b[39;49m\u001b[39m\"\u001b[39;49m, \u001b[39mFalse\u001b[39;49;00m),\n\u001b[0;32m   1711\u001b[0m     is_text\u001b[39m=\u001b[39;49mis_text,\n\u001b[0;32m   1712\u001b[0m     errors\u001b[39m=\u001b[39;49m\u001b[39mself\u001b[39;49m\u001b[39m.\u001b[39;49moptions\u001b[39m.\u001b[39;49mget(\u001b[39m\"\u001b[39;49m\u001b[39mencoding_errors\u001b[39;49m\u001b[39m\"\u001b[39;49m, \u001b[39m\"\u001b[39;49m\u001b[39mstrict\u001b[39;49m\u001b[39m\"\u001b[39;49m),\n\u001b[0;32m   1713\u001b[0m     storage_options\u001b[39m=\u001b[39;49m\u001b[39mself\u001b[39;49m\u001b[39m.\u001b[39;49moptions\u001b[39m.\u001b[39;49mget(\u001b[39m\"\u001b[39;49m\u001b[39mstorage_options\u001b[39;49m\u001b[39m\"\u001b[39;49m, \u001b[39mNone\u001b[39;49;00m),\n\u001b[0;32m   1714\u001b[0m )\n\u001b[0;32m   1715\u001b[0m \u001b[39massert\u001b[39;00m \u001b[39mself\u001b[39m\u001b[39m.\u001b[39mhandles \u001b[39mis\u001b[39;00m \u001b[39mnot\u001b[39;00m \u001b[39mNone\u001b[39;00m\n\u001b[0;32m   1716\u001b[0m f \u001b[39m=\u001b[39m \u001b[39mself\u001b[39m\u001b[39m.\u001b[39mhandles\u001b[39m.\u001b[39mhandle\n",
      "File \u001b[1;32mc:\\Users\\Veronii\\AppData\\Local\\Programs\\Python\\Python310\\lib\\site-packages\\pandas\\io\\common.py:863\u001b[0m, in \u001b[0;36mget_handle\u001b[1;34m(path_or_buf, mode, encoding, compression, memory_map, is_text, errors, storage_options)\u001b[0m\n\u001b[0;32m    858\u001b[0m \u001b[39melif\u001b[39;00m \u001b[39misinstance\u001b[39m(handle, \u001b[39mstr\u001b[39m):\n\u001b[0;32m    859\u001b[0m     \u001b[39m# Check whether the filename is to be opened in binary mode.\u001b[39;00m\n\u001b[0;32m    860\u001b[0m     \u001b[39m# Binary mode does not support 'encoding' and 'newline'.\u001b[39;00m\n\u001b[0;32m    861\u001b[0m     \u001b[39mif\u001b[39;00m ioargs\u001b[39m.\u001b[39mencoding \u001b[39mand\u001b[39;00m \u001b[39m\"\u001b[39m\u001b[39mb\u001b[39m\u001b[39m\"\u001b[39m \u001b[39mnot\u001b[39;00m \u001b[39min\u001b[39;00m ioargs\u001b[39m.\u001b[39mmode:\n\u001b[0;32m    862\u001b[0m         \u001b[39m# Encoding\u001b[39;00m\n\u001b[1;32m--> 863\u001b[0m         handle \u001b[39m=\u001b[39m \u001b[39mopen\u001b[39;49m(\n\u001b[0;32m    864\u001b[0m             handle,\n\u001b[0;32m    865\u001b[0m             ioargs\u001b[39m.\u001b[39;49mmode,\n\u001b[0;32m    866\u001b[0m             encoding\u001b[39m=\u001b[39;49mioargs\u001b[39m.\u001b[39;49mencoding,\n\u001b[0;32m    867\u001b[0m             errors\u001b[39m=\u001b[39;49merrors,\n\u001b[0;32m    868\u001b[0m             newline\u001b[39m=\u001b[39;49m\u001b[39m\"\u001b[39;49m\u001b[39m\"\u001b[39;49m,\n\u001b[0;32m    869\u001b[0m         )\n\u001b[0;32m    870\u001b[0m     \u001b[39melse\u001b[39;00m:\n\u001b[0;32m    871\u001b[0m         \u001b[39m# Binary mode\u001b[39;00m\n\u001b[0;32m    872\u001b[0m         handle \u001b[39m=\u001b[39m \u001b[39mopen\u001b[39m(handle, ioargs\u001b[39m.\u001b[39mmode)\n",
      "\u001b[1;31mFileNotFoundError\u001b[0m: [Errno 2] No such file or directory: '../data/players_ratings_22.csv'"
     ]
    }
   ],
   "source": [
    "# Datasets\n",
    "valuations = pd.read_csv('https://query.data.world/s/y4qg2twfvou4w2ghz6o3evju32g7yn?dws=00000') \n",
    "players = pd.read_csv('https://query.data.world/s/gksm6hx4xzgjaed7tia2uzpafwvyjo?dws=00000')\n",
    "ratings22 = pd.read_csv(\"../data/raw/FIFA22_player_ratings.csv\") # FIFA player attributes from 2022\n",
    "ratings21 = pd.read_csv(\"../data/raw/FIFA21_player_ratings.csv\") # FIFA player attributes from 2022\n",
    "# This appends players from 2021 not present in 2022\n",
    "extended = set(ratings21.sofifa_id).difference(set(ratings22.sofifa_id))\n",
    "ratings = pd.concat([ratings22, ratings21[ratings21.sofifa_id.isin(extended)]]).reset_index()\n",
    "\n",
    "process = False"
   ]
  },
  {
   "cell_type": "code",
   "execution_count": 3,
   "metadata": {},
   "outputs": [],
   "source": [
    "# Keep only useful columns\n",
    "players = players[['player_id', 'first_name', 'last_name', 'name', 'last_season', \n",
    "                   'country_of_birth', 'city_of_birth', 'country_of_citizenship', 'date_of_birth', 'sub_position', \n",
    "                   'position', 'foot', 'height_in_cm', 'market_value_in_eur', 'highest_market_value_in_eur', \n",
    "                   'contract_expiration_date', 'current_club_domestic_competition_id', 'current_club_name']]\n",
    "\n",
    "ratings = ratings[['short_name', 'long_name', 'player_positions', 'overall', 'potential', 'value_eur',\n",
    "                   'wage_eur', 'age', 'dob', 'height_cm', 'weight_kg', 'club_team_id', 'club_name', 'league_name', \n",
    "                   'league_level', 'club_position', 'club_joined', 'club_contract_valid_until', 'nationality_name',\n",
    "                   'preferred_foot', 'weak_foot', 'skill_moves', 'international_reputation', 'work_rate', 'body_type',\n",
    "                   'release_clause_eur', 'player_tags', 'player_traits', 'pace', 'shooting', 'passing', 'dribbling', \n",
    "                   'defending', 'physic', 'attacking_crossing', 'attacking_finishing', 'attacking_heading_accuracy', \n",
    "                   'attacking_short_passing', 'attacking_volleys', 'skill_dribbling', 'skill_curve', 'skill_fk_accuracy', \n",
    "                   'skill_long_passing', 'skill_ball_control', 'movement_acceleration', 'movement_sprint_speed', 'movement_agility', \n",
    "                   'movement_reactions', 'movement_balance', 'power_shot_power', 'power_jumping', 'power_stamina', 'power_strength', \n",
    "                   'power_long_shots', 'mentality_aggression', 'mentality_interceptions', 'mentality_positioning', 'mentality_vision', \n",
    "                   'mentality_penalties', 'mentality_composure', 'defending_marking_awareness', 'defending_standing_tackle', \n",
    "                   'defending_sliding_tackle', 'goalkeeping_diving', 'goalkeeping_handling', 'goalkeeping_kicking', \n",
    "                   'goalkeeping_positioning', 'goalkeeping_reflexes', 'goalkeeping_speed', 'ls', 'st', 'rs', 'lw', 'lf', 'cf', 'rf', \n",
    "                   'rw', 'lam', 'cam', 'ram', 'lm', 'lcm', 'cm', 'rcm', 'rm', 'lwb', 'ldm', 'cdm', 'rdm', 'rwb', 'lb', 'lcb', 'cb', \n",
    "                   'rcb', 'rb', 'gk']]\n"
   ]
  },
  {
   "cell_type": "code",
   "execution_count": 4,
   "metadata": {},
   "outputs": [],
   "source": [
    "if process:\n",
    "    # Find matches\n",
    "    longname_matches = match_players(players, ratings)\n",
    "    # Append the extracted FIFA long names\n",
    "    players[\"FIFA_long_name\"] = longname_matches\n",
    "    # Re arrange columns\n",
    "    players = players[list(players.columns[:4]) + [players.columns[-1]] + list(players.columns[4:-1])]\n",
    "else:\n",
    "    players = pd.read_csv(\"players_wFIFAnames.csv\")"
   ]
  },
  {
   "cell_type": "code",
   "execution_count": 5,
   "metadata": {},
   "outputs": [
    {
     "name": "stdout",
     "output_type": "stream",
     "text": [
      "<class 'pandas.core.frame.DataFrame'>\n",
      "RangeIndex: 19239 entries, 0 to 19238\n",
      "Data columns (total 96 columns):\n",
      " #   Column                       Non-Null Count  Dtype  \n",
      "---  ------                       --------------  -----  \n",
      " 0   short_name                   19239 non-null  object \n",
      " 1   long_name                    19239 non-null  object \n",
      " 2   player_positions             19239 non-null  object \n",
      " 3   overall                      19239 non-null  int64  \n",
      " 4   potential                    19239 non-null  int64  \n",
      " 5   value_eur                    19165 non-null  float64\n",
      " 6   wage_eur                     19178 non-null  float64\n",
      " 7   age                          19239 non-null  int64  \n",
      " 8   dob                          19239 non-null  object \n",
      " 9   height_cm                    19239 non-null  int64  \n",
      " 10  weight_kg                    19239 non-null  int64  \n",
      " 11  club_team_id                 19178 non-null  float64\n",
      " 12  club_name                    19178 non-null  object \n",
      " 13  league_name                  19178 non-null  object \n",
      " 14  league_level                 19178 non-null  float64\n",
      " 15  club_position                19178 non-null  object \n",
      " 16  club_joined                  18076 non-null  object \n",
      " 17  club_contract_valid_until    19178 non-null  float64\n",
      " 18  nationality_name             19239 non-null  object \n",
      " 19  preferred_foot               19239 non-null  object \n",
      " 20  weak_foot                    19239 non-null  int64  \n",
      " 21  skill_moves                  19239 non-null  int64  \n",
      " 22  international_reputation     19239 non-null  int64  \n",
      " 23  work_rate                    19239 non-null  object \n",
      " 24  body_type                    19239 non-null  object \n",
      " 25  release_clause_eur           18063 non-null  float64\n",
      " 26  player_tags                  1441 non-null   object \n",
      " 27  player_traits                9398 non-null   object \n",
      " 28  pace                         17107 non-null  float64\n",
      " 29  shooting                     17107 non-null  float64\n",
      " 30  passing                      17107 non-null  float64\n",
      " 31  dribbling                    17107 non-null  float64\n",
      " 32  defending                    17107 non-null  float64\n",
      " 33  physic                       17107 non-null  float64\n",
      " 34  attacking_crossing           19239 non-null  int64  \n",
      " 35  attacking_finishing          19239 non-null  int64  \n",
      " 36  attacking_heading_accuracy   19239 non-null  int64  \n",
      " 37  attacking_short_passing      19239 non-null  int64  \n",
      " 38  attacking_volleys            19239 non-null  int64  \n",
      " 39  skill_dribbling              19239 non-null  int64  \n",
      " 40  skill_curve                  19239 non-null  int64  \n",
      " 41  skill_fk_accuracy            19239 non-null  int64  \n",
      " 42  skill_long_passing           19239 non-null  int64  \n",
      " 43  skill_ball_control           19239 non-null  int64  \n",
      " 44  movement_acceleration        19239 non-null  int64  \n",
      " 45  movement_sprint_speed        19239 non-null  int64  \n",
      " 46  movement_agility             19239 non-null  int64  \n",
      " 47  movement_reactions           19239 non-null  int64  \n",
      " 48  movement_balance             19239 non-null  int64  \n",
      " 49  power_shot_power             19239 non-null  int64  \n",
      " 50  power_jumping                19239 non-null  int64  \n",
      " 51  power_stamina                19239 non-null  int64  \n",
      " 52  power_strength               19239 non-null  int64  \n",
      " 53  power_long_shots             19239 non-null  int64  \n",
      " 54  mentality_aggression         19239 non-null  int64  \n",
      " 55  mentality_interceptions      19239 non-null  int64  \n",
      " 56  mentality_positioning        19239 non-null  int64  \n",
      " 57  mentality_vision             19239 non-null  int64  \n",
      " 58  mentality_penalties          19239 non-null  int64  \n",
      " 59  mentality_composure          19239 non-null  int64  \n",
      " 60  defending_marking_awareness  19239 non-null  int64  \n",
      " 61  defending_standing_tackle    19239 non-null  int64  \n",
      " 62  defending_sliding_tackle     19239 non-null  int64  \n",
      " 63  goalkeeping_diving           19239 non-null  int64  \n",
      " 64  goalkeeping_handling         19239 non-null  int64  \n",
      " 65  goalkeeping_kicking          19239 non-null  int64  \n",
      " 66  goalkeeping_positioning      19239 non-null  int64  \n",
      " 67  goalkeeping_reflexes         19239 non-null  int64  \n",
      " 68  goalkeeping_speed            2132 non-null   float64\n",
      " 69  ls                           19239 non-null  object \n",
      " 70  st                           19239 non-null  object \n",
      " 71  rs                           19239 non-null  object \n",
      " 72  lw                           19239 non-null  object \n",
      " 73  lf                           19239 non-null  object \n",
      " 74  cf                           19239 non-null  object \n",
      " 75  rf                           19239 non-null  object \n",
      " 76  rw                           19239 non-null  object \n",
      " 77  lam                          19239 non-null  object \n",
      " 78  cam                          19239 non-null  object \n",
      " 79  ram                          19239 non-null  object \n",
      " 80  lm                           19239 non-null  object \n",
      " 81  lcm                          19239 non-null  object \n",
      " 82  cm                           19239 non-null  object \n",
      " 83  rcm                          19239 non-null  object \n",
      " 84  rm                           19239 non-null  object \n",
      " 85  lwb                          19239 non-null  object \n",
      " 86  ldm                          19239 non-null  object \n",
      " 87  cdm                          19239 non-null  object \n",
      " 88  rdm                          19239 non-null  object \n",
      " 89  rwb                          19239 non-null  object \n",
      " 90  lb                           19239 non-null  object \n",
      " 91  lcb                          19239 non-null  object \n",
      " 92  cb                           19239 non-null  object \n",
      " 93  rcb                          19239 non-null  object \n",
      " 94  rb                           19239 non-null  object \n",
      " 95  gk                           19239 non-null  object \n",
      "dtypes: float64(13), int64(42), object(41)\n",
      "memory usage: 14.1+ MB\n"
     ]
    }
   ],
   "source": [
    "ratings.info()"
   ]
  },
  {
   "cell_type": "code",
   "execution_count": 1,
   "metadata": {},
   "outputs": [
    {
     "ename": "NameError",
     "evalue": "name 'players' is not defined",
     "output_type": "error",
     "traceback": [
      "\u001b[1;31m---------------------------------------------------------------------------\u001b[0m",
      "\u001b[1;31mNameError\u001b[0m                                 Traceback (most recent call last)",
      "\u001b[1;32mc:\\Users\\Veronii\\Desktop\\advanced_stats\\code\\Ginos_Notebook.ipynb Cell 7\u001b[0m line \u001b[0;36m1\n\u001b[1;32m----> <a href='vscode-notebook-cell:/c%3A/Users/Veronii/Desktop/advanced_stats/code/Ginos_Notebook.ipynb#W6sZmlsZQ%3D%3D?line=0'>1</a>\u001b[0m players\u001b[39m.\u001b[39minfo()\n\u001b[0;32m      <a href='vscode-notebook-cell:/c%3A/Users/Veronii/Desktop/advanced_stats/code/Ginos_Notebook.ipynb#W6sZmlsZQ%3D%3D?line=1'>2</a>\u001b[0m players\n",
      "\u001b[1;31mNameError\u001b[0m: name 'players' is not defined"
     ]
    }
   ],
   "source": [
    "players.info()\n",
    "players"
   ]
  },
  {
   "cell_type": "code",
   "execution_count": 11,
   "metadata": {},
   "outputs": [
    {
     "data": {
      "image/png": "[encoded data removed]",
      "text/plain": [
       "<Figure size 640x480 with 1 Axes>"
      ]
     },
     "metadata": {},
     "output_type": "display_data"
    }
   ],
   "source": [
    "# Calculate players age to the data of data collection\n",
    "players[\"age\"] = players.date_of_birth.apply(lambda x: calculate_age(x))"
   ]
  },
  {
   "cell_type": "code",
   "execution_count": 12,
   "metadata": {},
   "outputs": [
    {
     "data": {
      "text/plain": [
       "(array([ 988., 5111., 6719., 6523., 3457., 3255., 1741.,  534.,   80.,\n",
       "           9.]),\n",
       " array([14. , 17.8, 21.6, 25.4, 29.2, 33. , 36.8, 40.6, 44.4, 48.2, 52. ]),\n",
       " <BarContainer object of 10 artists>)"
      ]
     },
     "execution_count": 12,
     "metadata": {},
     "output_type": "execute_result"
    },
    {
     "data": {
      "image/png": "[encoded data removed]",
      "text/plain": [
       "<Figure size 640x480 with 1 Axes>"
      ]
     },
     "metadata": {},
     "output_type": "display_data"
    }
   ],
   "source": [
    "fig, ax = plt.subplots()\n",
    "\n",
    "ax.hist(players.age)"
   ]
  },
  {
   "cell_type": "code",
   "execution_count": 8,
   "metadata": {},
   "outputs": [],
   "source": [
    "# Detect retired:\n",
    "## Conditions:\n",
    "### Last season < 2021\n",
    "### No current club (NAN)\n",
    "### No Market value in EUR (NAN)\n",
    "### No Contract Expiration date (NAN)\n",
    "players.loc[(players.last_season < 2021) & (players.current_club_name.isna()) & (players.market_value_in_eur.isna()) & (players.contract_expiration_date.isna()), \"age\"].hist();"
   ]
  },
  {
   "cell_type": "code",
   "execution_count": 9,
   "metadata": {},
   "outputs": [
    {
     "data": {
      "text/plain": [
       "3942"
      ]
     },
     "execution_count": 9,
     "metadata": {},
     "output_type": "execute_result"
    }
   ],
   "source": [
    "players.loc[(players.last_season < 2021) & (players.current_club_name.isna()) & (players.market_value_in_eur.isna()) & (players.contract_expiration_date.isna()), \"age\"].count()"
   ]
  },
  {
   "cell_type": "code",
   "execution_count": 10,
   "metadata": {},
   "outputs": [
    {
     "data": {
      "text/plain": [
       "player_id                                       844356\n",
       "first_name                                       Petro\n",
       "last_name                                     Velychko\n",
       "name                                    Petro Velychko\n",
       "FIFA_long_name                                     NaN\n",
       "last_season                                       2020\n",
       "country_of_birth                                   NaN\n",
       "city_of_birth                                      NaN\n",
       "country_of_citizenship                         Ukraine\n",
       "date_of_birth                               2004-08-28\n",
       "sub_position                               Centre-Back\n",
       "position                                      Defender\n",
       "foot                                             right\n",
       "height_in_cm                                     190.0\n",
       "market_value_in_eur                                NaN\n",
       "highest_market_value_in_eur                        NaN\n",
       "contract_expiration_date                           NaN\n",
       "current_club_domestic_competition_id              UKR1\n",
       "current_club_name                                  NaN\n",
       "age                                               16.0\n",
       "Name: 6739, dtype: object"
      ]
     },
     "execution_count": 10,
     "metadata": {},
     "output_type": "execute_result"
    }
   ],
   "source": [
    "players.loc[6739]"
   ]
  },
  {
   "cell_type": "code",
   "execution_count": null,
   "metadata": {},
   "outputs": [],
   "source": []
  }
 ],
 "metadata": {
  "kernelspec": {
   "display_name": "Python 3",
   "language": "python",
   "name": "python3"
  },
  "language_info": {
   "codemirror_mode": {
    "name": "ipython",
    "version": 3
   },
   "file_extension": ".py",
   "mimetype": "text/x-python",
   "name": "python",
   "nbconvert_exporter": "python",
   "pygments_lexer": "ipython3",
   "version": "3.10.11"
  }
 },
 "nbformat": 4,
 "nbformat_minor": 2
}
