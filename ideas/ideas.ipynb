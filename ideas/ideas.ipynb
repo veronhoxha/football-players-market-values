{
 "cells": [
  {
   "cell_type": "markdown",
   "metadata": {},
   "source": [
    "### Idea 1 - Financial Market Prediction\n",
    "\n",
    "Topics we can use: \n",
    "\n",
    "    1) Cross Validation and Prediction Error.\n",
    "    3) Parametric models\n",
    "\n",
    "Idea will be to get a financial dataset with stock prices over time and then use parametric models to predict future prices and apply cross-validation to assess the prediction error."
   ]
  },
  {
   "cell_type": "markdown",
   "metadata": {},
   "source": [
    "### Idea 2 - Fotball Player Performance Analysis\n",
    "\n",
    "Topics we can use: \n",
    "\n",
    "    1) Bayesian Inference,\n",
    "    2) The Bootstrap,\n",
    "    3) Generalised Linear Models (GLMs). \n",
    "\n",
    "Three possible topics we can use we can use only one and two as well depending on how we agree.\n",
    "\n",
    "Idea would be to get a dataset that contains performance metrics of fotball players from a specific league, lets say maybe La Liga or Premier Leagues whatever any of them whatever we find suitable. This dataset it might be good to include variables like minutes played, goals scored, assists, passes completed, tackles made, and so on, across multiple seasons or maybe just single season.\n",
    "\n",
    "In this case for example we can use bayesian methods to estimate the probability that a player will score in a match given their past performance for example.\n",
    "\n",
    "When using bootstrap we can use it for finding maybe like a player's average goals per match.\n",
    "\n",
    "For GLMs we can use it to relate the number of goals scored by a player to various predictors such as shots on target, position played etc with this we can understand what factors contribute most significantly to the player's scoring ability."
   ]
  }
 ],
 "metadata": {
  "kernelspec": {
   "display_name": "Python 3",
   "language": "python",
   "name": "python3"
  },
  "language_info": {
   "codemirror_mode": {
    "name": "ipython",
    "version": 3
   },
   "file_extension": ".py",
   "mimetype": "text/x-python",
   "name": "python",
   "nbconvert_exporter": "python",
   "pygments_lexer": "ipython3",
   "version": "3.10.11"
  }
 },
 "nbformat": 4,
 "nbformat_minor": 2
}
