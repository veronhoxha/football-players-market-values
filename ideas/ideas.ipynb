{
 "cells": [
  {
   "cell_type": "markdown",
   "metadata": {},
   "source": [
    "### Idea 1 - Financial Market Prediction\n",
    "\n",
    "Topics we can use: \n",
    "\n",
    "    1) Bayesian Methods: Bayesian models, such as Bayesian VAR (Vector Autoregression), can be used to incorporate prior knowledge or beliefs into the modeling process. They are useful for estimating uncertainty and making probabilistic predictions.\n",
    "    2) Survival Analysis: Used to model the time until a certain event occurs, like the time until a stock reaches a certain price.\n",
    "    \n",
    "\n",
    "Idea will be to get a financial dataset with stock prices over time and then use parametric models to predict future prices and apply cross-validation (test the model's ability to predict new data that was not used in estimating it), to assess the prediction error (the basic idea is to split the training data into two subsets, one subset is used to train the prediction rule and then the other subset is used to assess prediction error.)"
   ]
  },
  {
   "cell_type": "markdown",
   "metadata": {},
   "source": [
    "### Idea 2 - Fotball Player Performance Analysis\n",
    "\n",
    "Topics we can use: \n",
    "\n",
    "    1) Bayesian Inference,\n",
    "    2) The Bootstrap,\n",
    "    3) Generalised Linear Models (GLMs). \n",
    "\n",
    "Three possible topics we can use we can use only one and two as well depending on how we agree.\n",
    "\n",
    "Idea would be to get a dataset that contains performance metrics of fotball players from a specific league, lets say maybe La Liga or Premier Leagues whatever any of them whatever we find suitable. This dataset it might be good to include variables like minutes played, goals scored, assists, passes completed, tackles made, and so on, across multiple seasons or maybe just single season.\n",
    "\n",
    "In this case for example we can use bayesian methods to estimate the probability that a player will score in a match given their past performance for example.\n",
    "\n",
    "When using bootstrap we can use it for finding maybe like a player's average goals per match.\n",
    "\n",
    "For GLMs (Poission regression) we can use it to relate the number of goals scored by a player to various predictors such as shots on target, position played etc with this we can understand what factors contribute most significantly to the player's scoring ability."
   ]
  },
  {
   "cell_type": "markdown",
   "metadata": {},
   "source": [
    "Idea 3 - Football players - Transfer value and survival analysis\n",
    "\n",
    "Using historical data on football players, we could try to model their market value and associate that with their \"hazard rate\" from the survival analysis. Here, the survival analysis is applied to the retirement age (intead of the classical death), and so we can try to correlate their market value to the expectancy of survival for the player (in other words, how much time left he has as an athlete).\n",
    "\n",
    "Potential dataset: Football Data from Transfermarkt (https://data.world/dcereijo/player-scores). Clean, structured and automatically updated football (soccer) data from Transfermarkt. Includes:\n",
    "- 60,000+ games from many seasons on all major competitions\n",
    "- 400+ clubs from those competitions\n",
    "- 30,000+ players from those clubs\n",
    "- 400,000+ player market valuations historical records\n",
    "- 1,200,000+ player appearance records from all games\n",
    "\n",
    "Cons: I haven't really looked at the dataset in detail, but we would be missing the retirement age of historical players. This could be fixed with another dataset or looking at the appareances and inferring their retirment age from the absence of appearence.\n",
    "\n",
    "Pros: The dataset seems big enough, has many different branchs one can explore (survival analysis, transfer value, correlations between attributes and value, etc.)."
   ]
  },
  {
   "cell_type": "markdown",
   "metadata": {},
   "source": [
    "### Steps to follow\n",
    "\n",
    "    The dataset\n",
    "\n",
    "    Pick a dataset of your own choosing. It can be something you want to work with for\n",
    "    your MSc project, something you have access to via your employer, or something you\n",
    "    have previously worked with. You may also use the dataset you’re creating in the Data\n",
    "    Wrangling in the Wild class, provided the analysis you make is different from that\n",
    "    submitted in the other class, or you might start from a published academic paper that\n",
    "    comes with raw data and reanalyse the results.\n",
    "\n",
    "    The size of the dataset should be appropriate for the modelling method that you’re\n",
    "    planning to use. You also need to ensure that the dataset its relevant for the problem\n",
    "    you want to solve. As such, getting an initial understanding of your dataset is very\n",
    "    important. You can apply very sophisticated machine learning methods but if you are\n",
    "    not aware of potential issues with the data further modelling will be difficult\n",
    "\n",
    "    1) Get hands on the data and understand the data\n",
    "    2) Perform data pre-processing  \n",
    "        a) Check for null values etc (depends on the dataset we are going to use)\n",
    "    3) Define our research question (After we understand the dataset and ask two/three research question)\n",
    "    4) Descriptive statistics (subtasks: mean, median, mode, variance, standard deviation, check for distribution of the data ... )\n",
    "    5) Visualize the data in plots, box plots, histograms for distribution, correlation, outliers\n",
    "    6) Inferential statistics (hyothesis testing, distance between distribution ...)\n",
    "    7) Build statistical model (clustering, NN) \n",
    "\n",
    "    Option for choosing the dataset:\n",
    "        1) Your own choosing (random dataset: Kaggle ...) - maybe the best option for now\n",
    "        2) From the dataset we created in Data in the Wild/masters (maybe no)\n",
    "        3) From a published academic paper that comes with raw data and we reanalyse the results"
   ]
  },
  {
   "cell_type": "markdown",
   "metadata": {},
   "source": []
  },
  {
   "cell_type": "markdown",
   "metadata": {},
   "source": []
  },
  {
   "cell_type": "markdown",
   "metadata": {},
   "source": []
  }
 ],
 "metadata": {
  "kernelspec": {
   "display_name": "Python 3",
   "language": "python",
   "name": "python3"
  },
  "language_info": {
   "codemirror_mode": {
    "name": "ipython",
    "version": 3
   },
   "file_extension": ".py",
   "mimetype": "text/x-python",
   "name": "python",
   "nbconvert_exporter": "python",
   "pygments_lexer": "ipython3",
   "version": "3.10.11"
  }
 },
 "nbformat": 4,
 "nbformat_minor": 2
}
